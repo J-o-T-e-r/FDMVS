{
 "cells": [
  {
   "cell_type": "code",
   "execution_count": 11,
   "metadata": {},
   "outputs": [],
   "source": [
    "import numpy as np\n",
    "import pandas as pd\n",
    "import networkx as nx"
   ]
  },
  {
   "cell_type": "code",
   "execution_count": 2,
   "metadata": {},
   "outputs": [],
   "source": [
    "origin_data = pd.read_csv('train.csv')\n",
    "data = origin_data.values.tolist()"
   ]
  },
  {
   "cell_type": "code",
   "execution_count": 5,
   "metadata": {},
   "outputs": [],
   "source": [
    "#统计每个节点连接了多少条边\n",
    "edge_nums = {}\n",
    "for i in range(len(data)):\n",
    "    if data[i][0] not in edge_nums.keys():\n",
    "        edge_nums[data[i][0]] = 0\n",
    "    if data[i][1] not in edge_nums.keys():\n",
    "        edge_nums[data[i][1]] = 0\n",
    "    edge_nums[data[i][0]] += 1\n",
    "    edge_nums[data[i][1]] += 1"
   ]
  },
  {
   "cell_type": "code",
   "execution_count": 8,
   "metadata": {},
   "outputs": [],
   "source": [
    "#将每个节点连接的边数从大到小排列\n",
    "edge_num = sorted(edge_nums.items(), key = lambda x:x[1], reverse = True)"
   ]
  },
  {
   "cell_type": "code",
   "execution_count": 12,
   "metadata": {},
   "outputs": [
    {
     "data": {
      "text/plain": [
       "<networkx.classes.graph.Graph at 0x1d207e0e1f0>"
      ]
     },
     "execution_count": 12,
     "metadata": {},
     "output_type": "execute_result"
    }
   ],
   "source": [
    "#构造无向图\n",
    "G = nx.Graph()\n",
    "for i in range(len(data)): \n",
    "    G.add_edge(data[i][0], data[i][1])\n",
    "G.to_undirected()"
   ]
  },
  {
   "cell_type": "code",
   "execution_count": 13,
   "metadata": {},
   "outputs": [],
   "source": [
    "#计算PageRank值\n",
    "pagerank_list = nx.pagerank(G, alpha=1)\n",
    "pageRank = sorted(pagerank_list.items(),key=lambda x:x[1],reverse=True)"
   ]
  },
  {
   "cell_type": "code",
   "execution_count": 16,
   "metadata": {},
   "outputs": [],
   "source": [
    "#提取PageRank值最高的前20个数据\n",
    "pagerank_top20 = []\n",
    "for i in range(20):\n",
    "    pagerank_top20.append(pageRank[i])"
   ]
  },
  {
   "cell_type": "code",
   "execution_count": 39,
   "metadata": {},
   "outputs": [],
   "source": [
    "#提取PageRank值最高的前20个数据的id\n",
    "id_list = []\n",
    "for i in range(20):\n",
    "    id_list.append(pagerank_top20[i][0])"
   ]
  },
  {
   "cell_type": "code",
   "execution_count": 40,
   "metadata": {},
   "outputs": [],
   "source": [
    "#根据PageRank值最高的前20个数据的id寻找它们相应的连接边数\n",
    "edge_top20 = []\n",
    "for i in range(len(edge_num)):\n",
    "    if edge_num[i][0] in id_list:\n",
    "        edge_top20.append(edge_num[i])"
   ]
  },
  {
   "cell_type": "code",
   "execution_count": 45,
   "metadata": {},
   "outputs": [],
   "source": [
    "#计算每个节点连接的边数占前20个节点连接总边数的比例\n",
    "total = 0\n",
    "for i in range(20):\n",
    "    total += edge_top20[i][1]\n",
    "prb = {}\n",
    "for i in range(20):\n",
    "    prb[edge_top20[i][0]] = edge_top20[i][1] / total"
   ]
  },
  {
   "cell_type": "code",
   "execution_count": 52,
   "metadata": {},
   "outputs": [],
   "source": [
    "#用了比较复杂的方式汇总数据\n",
    "#最终数据key:id values:列表\n",
    "#列表第一个元素为PageRank值，第二个元素为节点连接边数，第三个元素为比列\n",
    "final_data = {}\n",
    "for i in range(20):\n",
    "    if pagerank_top20[i][0] not in final_data.keys():\n",
    "        final_data[pagerank_top20[i][0]] = []\n",
    "        final_data[pagerank_top20[i][0]].append(pagerank_top20[i][1])\n",
    "        for j in range(20):\n",
    "            if edge_top20[j][0] == pagerank_top20[i][0]:\n",
    "                final_data[pagerank_top20[i][0]].append(edge_top20[j][1])\n",
    "                for key in prb.keys():\n",
    "                    if key == pagerank_top20[i][0]:\n",
    "                        final_data[pagerank_top20[i][0]].append(prb[key])"
   ]
  },
  {
   "cell_type": "code",
   "execution_count": 54,
   "metadata": {},
   "outputs": [],
   "source": [
    "#写入json格式\n",
    "import json\n",
    "bubble_diagram = json.dumps(final_data, ensure_ascii = False)\n",
    "fp1 = open('bubble_diagram.json', 'w+')\n",
    "fp1.write(bubble_diagram)\n",
    "fp1.close()"
   ]
  }
 ],
 "metadata": {
  "kernelspec": {
   "display_name": "Python 3",
   "language": "python",
   "name": "python3"
  },
  "language_info": {
   "codemirror_mode": {
    "name": "ipython",
    "version": 3
   },
   "file_extension": ".py",
   "mimetype": "text/x-python",
   "name": "python",
   "nbconvert_exporter": "python",
   "pygments_lexer": "ipython3",
   "version": "3.8.5"
  }
 },
 "nbformat": 4,
 "nbformat_minor": 4
}
